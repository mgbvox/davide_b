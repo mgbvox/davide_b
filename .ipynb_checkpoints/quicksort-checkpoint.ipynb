{
 "cells": [
  {
   "cell_type": "code",
   "execution_count": 99,
   "metadata": {},
   "outputs": [],
   "source": [
    "def sort_equal(equal):\n",
    "    color_hr = ['gold', 'red', 'blue', 'green']\n",
    "    \n",
    "    first_item = equal[0]\n",
    "    if type(first_item) == tuple:\n",
    "        \n",
    "        if len(equal) > 1:\n",
    "\n",
    "            sorted_equal = [None] * len(equal)\n",
    "            move_list = []\n",
    "\n",
    "            if len(equal) > 1:\n",
    "                l = []\n",
    "                color_list = []\n",
    "                for i in equal:\n",
    "                    color = i[1]\n",
    "                    color_index = color_hr.index(color)\n",
    "                    l.append(color)\n",
    "                    color_list.append(color_index)\n",
    "\n",
    "                sorted_color_list = sort(color_list)\n",
    "                for c in color_list:\n",
    "                    idx = sorted_color_list.index(c)\n",
    "                    move_list.append(idx)\n",
    "\n",
    "            for tidx, tup in enumerate(equal):\n",
    "                move_idx = move_list[tidx]\n",
    "                if sorted_equal[move_idx] == tup:\n",
    "                    move_idx += 1\n",
    "                sorted_equal[move_idx] = tup\n",
    "\n",
    "            return sorted_equal\n",
    "\n",
    "        else:\n",
    "            return equal\n",
    "    return equal\n"
   ]
  },
  {
   "cell_type": "code",
   "execution_count": 100,
   "metadata": {},
   "outputs": [],
   "source": [
    "def sort(array):\n",
    "    \"\"\"Sort the array by using quicksort.\"\"\"\n",
    "\n",
    "    less = []\n",
    "    equal = []\n",
    "    greater = []\n",
    "\n",
    "    if len(array) > 1:\n",
    "        pivot = array[0]\n",
    "        \n",
    "        if type(pivot) == int:\n",
    "            for x in array:\n",
    "                if x < pivot:\n",
    "                    less.append(x)\n",
    "                elif x == pivot:\n",
    "                    equal.append(x)\n",
    "                elif x > pivot:\n",
    "                    greater.append(x)\n",
    "        else:\n",
    "            pivot = pivot[0]\n",
    "            for item in array:\n",
    "                x = item[0]\n",
    "                if x < pivot:\n",
    "                    less.append(item)\n",
    "                elif x == pivot:\n",
    "                    equal.append(item)\n",
    "                elif x > pivot:\n",
    "                    greater.append(item)\n",
    "        \n",
    "        print(equal)\n",
    "        \n",
    "        return sort(less) + sort_equal(equal) + sort(greater) \n",
    "\n",
    "    else:\n",
    "        return array"
   ]
  },
  {
   "cell_type": "code",
   "execution_count": 103,
   "metadata": {},
   "outputs": [],
   "source": [
    "a = [(3, 'red'), (2, 'blue'), (2, 'green'), (5, 'green'), (5,'green'), (5,'green'), (17, 'blue')]"
   ]
  },
  {
   "cell_type": "code",
   "execution_count": 104,
   "metadata": {},
   "outputs": [
    {
     "name": "stdout",
     "output_type": "stream",
     "text": [
      "[(3, 'red')]\n",
      "[(2, 'blue'), (2, 'green')]\n",
      "[2]\n",
      "[(5, 'green'), (5, 'green'), (5, 'green')]\n",
      "[3, 3, 3]\n"
     ]
    },
    {
     "data": {
      "text/plain": [
       "[(2, 'blue'),\n",
       " (2, 'green'),\n",
       " (3, 'red'),\n",
       " (5, 'green'),\n",
       " (5, 'green'),\n",
       " None,\n",
       " (17, 'blue')]"
      ]
     },
     "execution_count": 104,
     "metadata": {},
     "output_type": "execute_result"
    }
   ],
   "source": [
    "sort(a)"
   ]
  },
  {
   "cell_type": "code",
   "execution_count": 83,
   "metadata": {},
   "outputs": [
    {
     "data": {
      "text/plain": [
       "int"
      ]
     },
     "execution_count": 83,
     "metadata": {},
     "output_type": "execute_result"
    }
   ],
   "source": []
  },
  {
   "cell_type": "code",
   "execution_count": null,
   "metadata": {},
   "outputs": [],
   "source": []
  }
 ],
 "metadata": {
  "kernelspec": {
   "display_name": "Python 3",
   "language": "python",
   "name": "python3"
  },
  "language_info": {
   "codemirror_mode": {
    "name": "ipython",
    "version": 3
   },
   "file_extension": ".py",
   "mimetype": "text/x-python",
   "name": "python",
   "nbconvert_exporter": "python",
   "pygments_lexer": "ipython3",
   "version": "3.7.7"
  }
 },
 "nbformat": 4,
 "nbformat_minor": 4
}
